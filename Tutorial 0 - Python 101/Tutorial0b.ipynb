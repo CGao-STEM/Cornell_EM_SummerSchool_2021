{
 "cells": [
  {
   "cell_type": "markdown",
   "metadata": {},
   "source": [
    "# Tutorial-0 Part B: introduction to simple image processing"
   ]
  },
  {
   "cell_type": "markdown",
   "metadata": {},
   "source": [
    "Before working through this notebook, please make a copy and save it with the same name plus your initials. Continue this tutorial using your copy."
   ]
  },
  {
   "cell_type": "markdown",
   "metadata": {},
   "source": [
    "# Table of Contents <a name=\"toc\"/>\n",
    "This tutorial contains a couple of data processing examples and exercises as a preparation for the main summer school tutorials. If you have no previous experience with Python or Jupyter Notebook, please complete part A of tutorial-0 before continuing to part B. \n",
    "* [1. Loading libraries](#heading1)\n",
    "* [2. Load, plot, calibrate and save data](#heading2)\n",
    "    * [Load an image](#heading2sub1)\n",
    "    * [Plot an image](#heading2sub2)\n",
    "    * [Check and input file information](#heading2sub3) \n",
    "    * [Exercise 1: Adding scale bar and saving image](#heading2sub4)\n",
    "    * [Exercise 2: plot an image](#heading2sub5) \n",
    "    * [Process a batch of images](#heading2sub6) \n",
    "* [3. Edit and analyze data](#heading3)\n",
    "    * [Binning an image](#sub7)\n",
    "    * [Rotating an images](#sub8)\n",
    "    * [Exercise 3: Adjusting image contrast](#sub9)\n",
    "    * [Exercise 4: line profiles](#sub10)\n",
    "\n"
   ]
  },
  {
   "cell_type": "markdown",
   "metadata": {},
   "source": [
    "# Load libraries <a name=\"heading1\"/>\n",
    "* Numpy, pyplot, tkinter and os are Python standard libraries. More information of these libraries are avalible through the Python standard library documentation.\n",
    "* EM_forWin includes standard routines for processing STEM data in Windows environment. For more information, please check the .py files in the EM_forWin folder. "
   ]
  },
  {
   "cell_type": "code",
   "execution_count": null,
   "metadata": {},
   "outputs": [],
   "source": [
    "# Output plot style\n",
    "%matplotlib notebook\n",
    "# Standard Python libraries needed for this tutorial\n",
    "import numpy as np\n",
    "import matplotlib.pyplot as plt\n",
    "import tkinter.filedialog as tf\n",
    "import os\n",
    "# Prepopulated library \n",
    "from EM_forWin import *"
   ]
  },
  {
   "cell_type": "markdown",
   "metadata": {},
   "source": [
    "[go to top](#toc)"
   ]
  },
  {
   "cell_type": "markdown",
   "metadata": {},
   "source": [
    "# Load, plot, process and save data  <a name=\"heading2\"/>\n",
    "* Load an image <a name=\"heading2sub1\"/>"
   ]
  },
  {
   "cell_type": "markdown",
   "metadata": {},
   "source": [
    "Electron microscopy (EM) data have a variety of different file types, such as .ser, .dm4, .tif, .mrc etc. As an initial example, we will start with a .tif file. You will learn more on processing different file types in Tutorial 2. In the next cell, you will first find the image using the `askopenfilenames` command and then load it with the `EM.EM_image` function.<br>\n",
    "<span style=\"color:orange\"></span> <span style=\"color:orange\"> Please execute the following cell and using the pop-up window, navigate to Tutorial 0 -> data -> images, and select **\"corrCROP_35_O4_10Mx_50x0.5us_1024px_50umC2_spot9_160mmCL_1\"**<br>  </span>"
   ]
  },
  {
   "cell_type": "code",
   "execution_count": null,
   "metadata": {},
   "outputs": [],
   "source": [
    "tiffIm_fn = tf.askopenfilenames(initialdir='../')\n",
    "tiffIm = EM.EM_image(tiffIm_fn[0])"
   ]
  },
  {
   "cell_type": "markdown",
   "metadata": {},
   "source": [
    "* Plot an image <br> <a name=\"heading2sub2\"/>"
   ]
  },
  {
   "cell_type": "code",
   "execution_count": null,
   "metadata": {},
   "outputs": [],
   "source": [
    "tiffIm.show()"
   ]
  },
  {
   "cell_type": "markdown",
   "metadata": {},
   "source": [
    "   <span style=\"color:orange\"></span> <span style=\"color:orange\">  You can zoom in on a specific area with the small box icon in the interactive GUI above. You can go back to original view with the home icon. \n",
    "    <span style=\"color:orange\"></span> <span style=\"color:red\"> After you are done adjusting the figure, you can close the interactive GUI at the upper right cornor to save RAM."
   ]
  },
  {
   "cell_type": "markdown",
   "metadata": {},
   "source": [
    "<span style=\"color:orange\"></span> <span style=\"color:orange\"> Another way to find the image is by entering the file path. </span> \n",
    "    You can also locate the image you would like to load without using the interactive GUI shown above. Instead, you can directly give `EM.EM_image` the path to the image. Use `../` to get the parent directory of the current working directory and you can append the rest of the file path by adding strings using the `+` key. "
   ]
  },
  {
   "cell_type": "code",
   "execution_count": null,
   "metadata": {},
   "outputs": [],
   "source": [
    "tiffIm_fn_path = '../'+'/data'+'/images'+'/corrCROP_35_O4_10Mx_50x0.5us_1024px_50umC2_spot9_160mmCL_1.tif'\n",
    "tiffIm = EM.EM_image(tiffIm_fn_path)"
   ]
  },
  {
   "cell_type": "markdown",
   "metadata": {},
   "source": [
    "<span style=\"color:orange\"></span> <span style=\"color:orange\">  You can select a different \n",
    "    [color map](https://matplotlib.org/stable/tutorials/colors/colormaps.html) for the image."
   ]
  },
  {
   "cell_type": "code",
   "execution_count": null,
   "metadata": {
    "scrolled": false
   },
   "outputs": [],
   "source": [
    "tiffIm.show(cmap='magma')"
   ]
  },
  {
   "cell_type": "markdown",
   "metadata": {},
   "source": [
    "There is more data in the *more_images* folder under the *data* directory that you can play with."
   ]
  },
  {
   "cell_type": "markdown",
   "metadata": {},
   "source": [
    "[go to top](#toc)"
   ]
  },
  {
   "cell_type": "markdown",
   "metadata": {},
   "source": [
    "* Check and input file information <a name=\"heading2sub3\"/>"
   ]
  },
  {
   "cell_type": "markdown",
   "metadata": {},
   "source": [
    "The file is stored as a class. file.data is the raw numeric data. Any numerical opration used for numpy arrasy can be applied to file.data. <span style=\"color:orange\"></span> <span style=\"color:orange\"> Notice the data types for tiffIm and tiffIm.data. "
   ]
  },
  {
   "cell_type": "code",
   "execution_count": null,
   "metadata": {},
   "outputs": [],
   "source": [
    "print(type(tiffIm))\n",
    "print(type(tiffIm.data))"
   ]
  },
  {
   "cell_type": "markdown",
   "metadata": {},
   "source": [
    "<span style=\"color:orange\"></span> <span style=\"color:orange\">   Input file information such as pixel size.</span> <br> Some files have matedata stored within and some don't. Here is an example of a file witout meta data, where you would need to manually input the pixel size.\n"
   ]
  },
  {
   "cell_type": "code",
   "execution_count": null,
   "metadata": {},
   "outputs": [],
   "source": [
    "tiffIm.info['pixelSize'] = 0.0087 ##### need to double check the \n",
    "tiffIm.info['unit'] = 'nm'"
   ]
  },
  {
   "cell_type": "code",
   "execution_count": null,
   "metadata": {},
   "outputs": [],
   "source": [
    "print('The x-dimension of tiffIm is',tiffIm.x)\n",
    "print('The y-dimension of tiffIm is',tiffIm.y)\n",
    "print(tiffIm.info)"
   ]
  },
  {
   "cell_type": "markdown",
   "metadata": {},
   "source": [
    "[go to top](#toc)"
   ]
  },
  {
   "cell_type": "markdown",
   "metadata": {},
   "source": [
    "</span> <span style=\"color:blue\"> **Exercise 1: Adding a scale bar and saving an image** </span>  <a name=\"heading2sub4\"/>"
   ]
  },
  {
   "cell_type": "markdown",
   "metadata": {},
   "source": [
    "You can add a scale bar to an image as long as it has pixel size information by `functions.scalebar`. Can you save tiffIm with a scale bar to **data -> outPuts_imgs** and name it **'corrCROP_35_O4_10Mx_50x0.5us_1024px_50umC2_spot9_160mmCL_1_withScaleBar'**? <br>\n",
    "</span> <span style=\"color:blue\"> **Hint** </span> <br>\n",
    "    You can use `tf.askdirectory` to assign the output directory and append the rest of the pathname yourself. Use `readwrite.saveTiff` to save as tiff image. To learn what inputs this function takes, run `readwrite.saveTiff?`in the cell below, and to learn what it does, run `readwrite.saveTiff??`"
   ]
  },
  {
   "cell_type": "code",
   "execution_count": null,
   "metadata": {},
   "outputs": [],
   "source": [
    "tiffIm_with_scaleBar = functions.scalebar(tiffIm)"
   ]
  },
  {
   "cell_type": "code",
   "execution_count": null,
   "metadata": {},
   "outputs": [],
   "source": [
    "readwrite.saveTiff??"
   ]
  },
  {
   "cell_type": "markdown",
   "metadata": {},
   "source": [
    "</span> <span style=\"color:blue\"> **Exercise 2: Plot an image** </span> <br> <a name=\"heading2sub5\"/>"
   ]
  },
  {
   "cell_type": "markdown",
   "metadata": {},
   "source": [
    "You can use `functions.show` to plot `image.data` as shown below. Can you plot only the upper-right quarter of serim with an orange color map and **(4,4)** figure size? <br>\n",
    "<span style=\"color:blue\"></span> <span style=\"color:blue\"> **Hint** </span> <br>\n",
    "`functions.show??`"
   ]
  },
  {
   "cell_type": "code",
   "execution_count": null,
   "metadata": {},
   "outputs": [],
   "source": [
    "tiffIm_2 = EM.EM_image('../'+'/data'+'/images'+'/corr_HAADF_06_3.6Mx_50x0.5us_1024px_0.4nAscreen_50umC2_1.tif')\n",
    "functions.show(tiffIm_2.data)\n",
    "functions.show??"
   ]
  },
  {
   "cell_type": "markdown",
   "metadata": {},
   "source": [
    "[go to top](#toc)"
   ]
  },
  {
   "cell_type": "markdown",
   "metadata": {},
   "source": [
    "* Process a batch of images <a name=\"heading2sub6\"/>"
   ]
  },
  {
   "cell_type": "markdown",
   "metadata": {},
   "source": [
    "It is often useful to process a batch of data at a time. Here is an example of processing a batch of data, adding scale bars to them and saving them as tiffs. All the images in this batch are .ser images, which usually do contain metadata such as the pixel size. The images in this batch include different magnifications of the same regions. </span> <span style=\"color:orange\"> The pixel size in the metadata is extracted directly from the microscope. In Tutorial 2, you will learn more about manually calibrating the pixel size as well."
   ]
  },
  {
   "cell_type": "code",
   "execution_count": null,
   "metadata": {},
   "outputs": [],
   "source": [
    "data_patch_dir = os.path.dirname(os.getcwd())+'/Data/image_batch'\n",
    "outPut_patch_dir = os.path.dirname(os.getcwd())+'/Data/outPuts_batch'\n",
    "for f in os.listdir(data_patch_dir):\n",
    "    if f.split('.')[-1] == 'ser':\n",
    "        image = EM.EM_image(data_patch_dir+'/'+f)\n",
    "        image_scale = functions.scalebar(image)\n",
    "        readwrite.saveTiff(image_scale, outPut_patch_dir+'/'+f)"
   ]
  },
  {
   "cell_type": "markdown",
   "metadata": {},
   "source": [
    "<span style=\"color:orange\"> Now check the processed images. "
   ]
  },
  {
   "cell_type": "code",
   "execution_count": null,
   "metadata": {
    "scrolled": false
   },
   "outputs": [],
   "source": [
    "for f in os.listdir(outPut_patch_dir):\n",
    "    image = EM.EM_image(outPut_patch_dir+'/'+f)\n",
    "    functions.show(image.data)"
   ]
  },
  {
   "cell_type": "markdown",
   "metadata": {},
   "source": [
    "[go to top](#toc)"
   ]
  },
  {
   "cell_type": "markdown",
   "metadata": {},
   "source": [
    "# Edit and analyze data  <a name=\"heading3\"/>"
   ]
  },
  {
   "cell_type": "markdown",
   "metadata": {},
   "source": [
    "* Binning an image  <a name=\"sub7\"/>"
   ]
  },
  {
   "cell_type": "markdown",
   "metadata": {},
   "source": [
    "There are many useful image analysis functions in the EM pacakge. Here, we show an example of binning an image. The function applied on the image directly edits the raw data. To \"undo\" the changes, you can just reload the image.\n",
    "<span style=\"color:orange\"></span> <span style=\"color:orange\">  Notice after binning by 8, there are Moire patterns introduced! "
   ]
  },
  {
   "cell_type": "code",
   "execution_count": null,
   "metadata": {},
   "outputs": [],
   "source": [
    "serIm_fn ='../'+'/Data/images/corrCROP_25_5.1x_50x0.5us_1024px_130mmCL_spot9_mono31_0.3nAscreenI_50umC2_1.tif'\n",
    "serIm = EM.EM_image(serIm_fn)\n",
    "print(\"Unbinned shape {}\".format(serIm.shape()))\n",
    "serIm.show()"
   ]
  },
  {
   "cell_type": "code",
   "execution_count": null,
   "metadata": {},
   "outputs": [],
   "source": [
    "serIm.rebin2d(4)\n",
    "print(\"Binned shape {}\".format(serIm.shape()))\n",
    "serIm.show()"
   ]
  },
  {
   "cell_type": "code",
   "execution_count": null,
   "metadata": {},
   "outputs": [],
   "source": [
    "serIm.rebin2d(2)\n",
    "print(\"Binned shape {}\".format(serIm.shape()))\n",
    "serIm.show()"
   ]
  },
  {
   "cell_type": "markdown",
   "metadata": {},
   "source": [
    "[go to top](#toc)"
   ]
  },
  {
   "cell_type": "markdown",
   "metadata": {},
   "source": [
    "* rotating images  <a name=\"sub8\"/>"
   ]
  },
  {
   "cell_type": "markdown",
   "metadata": {},
   "source": [
    "As mentioned earlier in this tutorial, the numpy methods applicable to numpy arrays can all be applied to file.data. Here is an example applying `np.rot90` to rotate an image by 90°. "
   ]
  },
  {
   "cell_type": "code",
   "execution_count": null,
   "metadata": {},
   "outputs": [],
   "source": [
    "serIm = EM.EM_image(serIm_fn)\n",
    "functions.show(np.rot90(serIm.data))\n",
    "serIm = EM.EM_image(serIm_fn)"
   ]
  },
  {
   "cell_type": "markdown",
   "metadata": {},
   "source": [
    "[go to top](#toc)"
   ]
  },
  {
   "cell_type": "markdown",
   "metadata": {},
   "source": [
    "Next, you will enhance the contrast in this image by using the `enhance contrast` function. Run the following cell to learn more about what this function does."
   ]
  },
  {
   "cell_type": "code",
   "execution_count": null,
   "metadata": {},
   "outputs": [],
   "source": [
    "functions.enhance_contrast??"
   ]
  },
  {
   "cell_type": "markdown",
   "metadata": {},
   "source": [
    "</span> <span style=\"color:blue\"> **Exercise 3: Adjusting image contrast** </span> <a name=\"sub9\"/> <br>"
   ]
  },
  {
   "cell_type": "markdown",
   "metadata": {},
   "source": [
    "Adjusting the contrast of an image is essentially adjusting the display range. Here is an image with an un-optimized display range. First, can you plot the image data as a histogram? Recall the histogram exercise in tutorial0-A.\n",
    "After obtaining a histogram, use `file.enhance_contrast` to 'saturate' some pixels in order to optimize the display range. Compare the histogram before and after adjusting contrast.<br>\n",
    "<span style=\"color:blue\"></span> <span style=\"color:blue\"> **Hint** </span> <br>\n",
    "- `array.flatten()` may be helpful for plotting the histogram. <br>\n",
    "- Try `bins = 100`\n",
    "\n",
    "</span> <span style=\"color:red\"> \n",
    "Clipping / saturating too many pixels can actually be risky. Discuss the values you chose to saturate with your TA.\n",
    "   "
   ]
  },
  {
   "cell_type": "code",
   "execution_count": null,
   "metadata": {},
   "outputs": [],
   "source": [
    "tiffIm_2_fn ='../' +'/Data/images/14_1.3Mx_1x2us_4096px_50umC2_CL300mm_600pAscreen_1.tif'\n",
    "tiffIm_2 = EM.EM_image(tiffIm_2_fn)\n",
    "tiffIm_2.show()"
   ]
  },
  {
   "cell_type": "markdown",
   "metadata": {},
   "source": [
    "Notice that you can call the `enhance_contrast` function directly to tiffIm_2. Run the next cell to learn how it works. "
   ]
  },
  {
   "cell_type": "code",
   "execution_count": null,
   "metadata": {},
   "outputs": [],
   "source": [
    "tiffIm_2.enhance_contrast??"
   ]
  },
  {
   "cell_type": "markdown",
   "metadata": {},
   "source": [
    "</span> <span style=\"color:blue\"> **Exercise 4: Line profiles** </span> </span> <a name=\"sub10\"/> <br>"
   ]
  },
  {
   "cell_type": "markdown",
   "metadata": {},
   "source": [
    "Plot line profiles in horizontal and vertical directions separately with a line width of 30 pixels and centered with respect to x=925 for the horizontal profile and y=925 for the vertical profile.  See if you can identify interfaces. It will be best if you can plot the line profiles for the x and y directions on the same scale.  <br>\n",
    "    <span style=\"color:blue\"></span> <span style=\"color:blue\"> **Hint** </span> <br>\n",
    "    `np.average` "
   ]
  },
  {
   "cell_type": "code",
   "execution_count": null,
   "metadata": {},
   "outputs": [],
   "source": [
    "tifImag_fn_2 = '../'+'/Data/images/interface_rot.tif'\n",
    "tiffIm_2 = EM.EM_image(tifImag_fn_2)\n",
    "tiffIm_2.show()"
   ]
  },
  {
   "cell_type": "markdown",
   "metadata": {},
   "source": [
    "[go to top](#toc)"
   ]
  }
 ],
 "metadata": {
  "kernelspec": {
   "display_name": "Python 3",
   "language": "python",
   "name": "python3"
  },
  "language_info": {
   "codemirror_mode": {
    "name": "ipython",
    "version": 3
   },
   "file_extension": ".py",
   "mimetype": "text/x-python",
   "name": "python",
   "nbconvert_exporter": "python",
   "pygments_lexer": "ipython3",
   "version": "3.8.3"
  }
 },
 "nbformat": 4,
 "nbformat_minor": 4
}
