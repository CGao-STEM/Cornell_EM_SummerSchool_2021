{
 "cells": [
  {
   "cell_type": "markdown",
   "metadata": {},
   "source": [
    "# T1: STEM Probe and Imaging part 2"
   ]
  },
  {
   "cell_type": "markdown",
   "metadata": {},
   "source": [
    "# Table of Contents <a name=\"toc\"/>\n",
    "**[1. Introduction](#heading1)**\n",
    "<br>**[2. CTEM Contrast Transfer Function Plotting](#heading2)**\n",
    "<br>**[3. STEM contrast transfer function (CTF) and point spread function (PSF) plotting](#heading3)**\n",
    "<br>**[4. Effect of Aberrations on STEM Images](#heading4)**\n",
    "    <br>[4.1. 2-fold Astigmatism](#heading4-1)\n",
    "    <br>[4.2. 3-fold Astigmatism](#heading4-2)\n",
    "<br>**[5. Effect of Chromatic Aberrations](#heading5)**"
   ]
  },
  {
   "cell_type": "markdown",
   "metadata": {},
   "source": [
    "# 1. Introduction <a name=\"heading1\"/>\n",
    "# PSF and CTF Plotting, Image Simulation\n",
    "<font size = \"3\">PSF and CTF Plotting, Image simulation\n",
    "Here we will inspect the probe shape in real space (the PSF) and in reciprocal space (the CTF) to see how much information will be transferred as a function of spatial frequencies. We will change aberrations with spherical symmetry and the convergence angle and see their effect on the probe, as well as simulate images with astigmatism, coma and 3-fold to see how artifacts can occur while imaging due to aberrations.\n",
    "\n",
    "To do this activity, run the below cell (shift+enter), then follow the instructions running each further cell to start up GUIs. Note that these GUIs are somewhat slow. They are adjusted using the sliders at the bottom, but to avoid the application getting stuck you should click on the point in the slider you want to see, rather than dragging, and wait for the GUI to update before clicking again. If the GUI does seem to be stuck, you can press the power button in the top right and restart the cell. If things seem very broken, under the Kernel menu restart the kernel and rerun the cells. "
   ]
  },
  {
   "cell_type": "code",
   "execution_count": null,
   "metadata": {},
   "outputs": [],
   "source": [
    "%matplotlib nbagg"
   ]
  },
  {
   "cell_type": "code",
   "execution_count": null,
   "metadata": {},
   "outputs": [],
   "source": [
    "from source.gui import ctem_gui, stem_gui, perov_gui, c23_gui, cc_gui"
   ]
  },
  {
   "cell_type": "markdown",
   "metadata": {},
   "source": [
    "[go to top](#toc)\n",
    "# 2. CTEM Contrast Transfer Function (CTF) plotting <a name=\"heading2\"/>\n",
    "\n",
    "\n",
    "<font size = \"3\">The next cell will plot the CTF for a CTEM – the CTF gives us an idea of how much information is transferred at each <font color=red>spatial frequency</font> – for an aberration corrected CTEM. This is the k-space equivalent to the point spread function (PSF).\n",
    "     \n",
    "<br>In a real system, as a <font color=red>result of noise</font>, there is a minimum resolved transfer level. Information from a spatial frequency that have CTF less than that level cannot be resolved from noise. Here, 5% is selected as the minimum resolved transfer level, and marked by the green line, and features with higher spatial frequency is hard to recognize.\n",
    "\n",
    "<br>For a CTEM, the CTF could be both positive and negative, which means features could be shown as both dark and bright in the final image and become hard to interpret. So the frequency at the first crossover of CTF sometimes set the <font color=red>interpretable information limit</font>, which is marked in the red line in the plot.\n",
    "\n",
    "<br>\n",
    "1) Change the defocus and see how that affects the CTF – by <font color=red>at least 100 Angstroms</font>. At large defocus values, you get less information transferred at high frequencies, corresponding to a loss of resolution. Notice how the CTF oscillates at high frequency, and compare it to how the STEM CTF behaves in the following cell. \n",
    "    \n",
    "2) Experiment with the other parameters to see how they push in/out the window of good frequency transfer -- where the CTF is fairly large and constant, with the information limit and first crossover at higher frequency (i.e. not oscillating and not close to zero). \n",
    "    "
   ]
  },
  {
   "cell_type": "code",
   "execution_count": null,
   "metadata": {},
   "outputs": [],
   "source": [
    "_ = ctem_gui()"
   ]
  },
  {
   "cell_type": "markdown",
   "metadata": {},
   "source": [
    "[go to top](#toc)\n",
    "# 3. STEM contrast transfer function (CTF) and point spread function (PSF) plotting <a name=\"heading3\"/>\n",
    "\n",
    "\n",
    "<font size=\"3\"><br>This will plot the CTF (left) and PSF (right) for a STEM. As mentioned above, the CTF encodes the amount of information transferred at each <font color=red>spatial frequency</font>, while the PSF describes the shape of the probe in real space. For a good probe, we want the CTF to show good information transfer over as large of a frequency as possible, and the PSF to be as sharp and narrow as possible, without significant tails. The default aberrations are similar to what is found on the Titan, which is abberration corrected (C3, C5 are small). \n",
    "<br>\n",
    "<font size=\"3\"><br> 1). Set the semi-convergence angle(objective aperture)to a relatively small value, <font color=red>~α=10</font> mrad. At small convergence angles, the probe size is large and CTF is pulled in to low frequencies due to the diffraction limit.</font>\n",
    "<br>\n",
    "<font size=\"3\"><br> 2). Set the semi-convergence angle (objective aperture) to a larger value, <font color=red>~α=25 mrad</font>. Now, the probe is smaller and the CTF extends to a much higher frequency.</font>  \n",
    "<font size=\"3\"><br> 3). Introduce aberrations one at a time and observe the effects on the PSF and CTF. You can also try matching the aberration function to the below table to get an idea of the probe size and information transfer for some of the microscopes here at Cornell. The F20 is uncorrected (hence the large C3, C5) while the Nion and Titan are aberration corrected. You can also experiment with changing the beam energy to see its effect on the PSF and CTF. </font>\n",
    "    \n",
    "<font size = \"3\"><br> Reference table for the aberrations of different microscopes.\n",
    "    \n",
    "|  | Cc(mm) | C3  | C5 | Energy(keV) | \n",
    "| --- | --- | --- | --- | --- |\n",
    "| F20 | 2.4 | 1.2 mm| 50 mm | 80 / 200 |\n",
    "| Nion | 1.1 | 2.0 um | 1.3 um | 60 / 80 / 100 |\n",
    "| Titan | 2.7 | 2.0 um | 1.3 um | 60 / 80 / 120 / 300 |\n",
    "    \n",
    "Note: due to sampling limitations in the simulation, some probes can be incorrectly calculated, noticeable if the CTF goes negative or the PSF origin is severly depressed. This is not physical, just a limitation of the simulation -- reducing the aberrations or increasing the beam energy may alleviate the issue."
   ]
  },
  {
   "cell_type": "code",
   "execution_count": null,
   "metadata": {},
   "outputs": [],
   "source": [
    "_ = stem_gui()"
   ]
  },
  {
   "cell_type": "markdown",
   "metadata": {},
   "source": [
    "[go to top](#toc)\n",
    "# 4. Effect of Aberrations on STEM Images <a name=\"heading4\"/>\n",
    "\n",
    "\n",
    "### 4.1 2-fold Astigmatism <a name=\"heading4-1\"/>\n",
    "\n",
    "<img src='unaberrated.png'>\n",
    "\n",
    "<font size=\"3\">Above is a simulated image of a square lattice with a small, diffraction limited probe. The image width is 10 Angstroms (1 nm). In the below cell is an interactive plot that shows the effects of aberrations on STEM imaging by calculating the 2D STEM probe (PSF) for the geometric aberrations set with the sliders, and convolving it with the above structure.\n",
    "\n",
    "1) Run the below cell, and before adjusting aberrations look at the simulated image below with the large initial aberrations. What is the effect of the aberrations on the image? How might this complicate interpretation of images if this was the probe used during an experiment?\n",
    "\n",
    "<br>2) Try varying <font color=red>defocus </font> (only). How does this compare to varying defocus with a less stigmated probe? How is this useful for determining whether features in the image are real or artifacts?\n",
    "\n",
    "3) Explore the other parameters (especially C12, semi-angle, and beam energy). What is the effect of each on the image?\n"
   ]
  },
  {
   "cell_type": "code",
   "execution_count": null,
   "metadata": {},
   "outputs": [],
   "source": [
    "_ = perov_gui()"
   ]
  },
  {
   "cell_type": "markdown",
   "metadata": {},
   "source": [
    "[go to top](#toc)\n",
    "### 4.2 3-fold Astigmatism <a name=\"heading4-2\"/>\n",
    "<font size=\"3\">The below interactive plot shows the effect of 3-fold astigmatism on STEM imaging by calculating the 2D STEM probe (PSF) for the geometric aberrations set with the sliders, and convolving it with a simple crystal structure. The image width is 10 Angstroms (1 nm). A combination of high aberration and a specific aberration function angle could make it hard to resolve the underlying lattice structure.\n",
    "\n",
    "\n",
    "- For the default 3-fold aberration setup, <b>try to guess what is the underlying lattice structure</b>? Then <font color=red>set defocus and 3-fold aberration magnitude (C23 magnitude) to a small value </font> and see how the apparent structure changes.\n",
    "\n",
    "In this case, the 3-fold aberration create three tails from each atomic site, with a specific aberration angle, the tails adds up at interstitial site and make it look like another atomic site at the interstitial."
   ]
  },
  {
   "cell_type": "code",
   "execution_count": null,
   "metadata": {},
   "outputs": [],
   "source": [
    "_ = c23_gui()"
   ]
  },
  {
   "cell_type": "markdown",
   "metadata": {},
   "source": [
    "[go to top](#toc)\n",
    "# 5. Effect of Chromatic Aberrations<a name=\"heading5\"/>\n",
    "\n",
    "<font size=\"3\">One of the effects of chromatic aberration in the microscope is to <font color=red>introduce a spread in the defocus</font>:\n",
    "\n",
    "<br><br><center><font size=\"5\">$\\Delta f \\propto C_c \\frac{\\Delta E} {E}$ </center> </font>\n",
    "\n",
    "<br><font size=\"3\"> Where $C_c$ is the chromatic aberration coefficient in the unit of [m] for the microscope, ΔE is the energy resolution of the microscope (determined by the electron source) and E is the energy of the electron beam.\n",
    "\n",
    "|  | Cc(mm) | $\\Delta$E (keV) | E(keV) | $\\Delta$ f(A) |\n",
    "| --- | --- | --- | --- | --- |\n",
    "| Nion | 1.1 | 0.3 | 60, 100 | 55, 33 |\n",
    "| Titan | 2.7 | 0.9 | 60, 300 | 405, 81 |\n",
    "\n",
    "<br><font size=\"3\"> In the following cell, sliders are added  to control $C_c$ and $\\Delta E$. Note: the calculation is <font color=red>slower</font> with chromatic aberrations included!\n",
    "\n",
    "<br><font size=\"3\"> 1). Compare the effects of the $C_c$ and $\\Delta E$ encountered on the Nion (the default parameters) and the Titan at 60 keV, with no other geometric aberrations (C1,C3,C5).\n",
    "\n",
    "<br><font size=\"3\"> 2). Suggest appropriate convergence angles for the respective microscopes given the chromatic blur’s impact on the CTF. </font>\n",
    "    \n",
    "<br><font size=\"3\"> 3). Try incorporating other geometric aberrations (e.g. C3). How does the effect of the geometric aberrations compare with that of $C_c$ on the convergence angle choice (hint: how noticeable are changes to $C_c$ and $\\Delta E$ with 1mm of C3)?</font>\n",
    "\n",
    "\n",
    "<br>\n",
    "\n",
    "Note: due to sampling limitations in the simulation, some probes can be incorrectly calculated, noticeable if the CTF goes negative or the PSF origin is severly depressed. This is not physical, just a limitation of the simulation -- reducing the aberrations or increasing the beam energy may alleviate the issue."
   ]
  },
  {
   "cell_type": "code",
   "execution_count": null,
   "metadata": {
    "scrolled": false
   },
   "outputs": [],
   "source": [
    "_ = cc_gui()"
   ]
  },
  {
   "cell_type": "code",
   "execution_count": null,
   "metadata": {},
   "outputs": [],
   "source": []
  }
 ],
 "metadata": {
  "kernelspec": {
   "display_name": "Python 3",
   "language": "python",
   "name": "python3"
  },
  "language_info": {
   "codemirror_mode": {
    "name": "ipython",
    "version": 3
   },
   "file_extension": ".py",
   "mimetype": "text/x-python",
   "name": "python",
   "nbconvert_exporter": "python",
   "pygments_lexer": "ipython3",
   "version": "3.7.6"
  }
 },
 "nbformat": 4,
 "nbformat_minor": 4
}
