{
 "cells": [
  {
   "cell_type": "markdown",
   "metadata": {},
   "source": [
    "# <span style=\"color:Blue\"> T4a: Basic EELS Processing </span>"
   ]
  },
  {
   "cell_type": "markdown",
   "metadata": {},
   "source": [
    "# Table of Contents<a name=\"toc\"/>\n",
    "**[1. Introduction](#intro)**\n",
    "* [1a. Importing data](#import)\n",
    "* [1b. Understanding the dimensions of eels data in python](#dim)\n",
    "* [1c. Dark correction](#dark)\n",
    "\n",
    "**[2. Basic Fitting](#basic)**\n",
    "* [2a. Edge mapping ](#edge)\n",
    "* [2b. LBA fitting](#lba)\n",
    "* [2c. Checking the quality of the background fit](#qual)\n",
    "\n",
    "**[3. Basic Quantitative Analysis](#quant)**\n",
    "* [3a. Fine structure analysis ](#fine)\n",
    "* [3b. Line Profiles](#line)\n",
    "* [3c. RGB mapping](#rgb)\n",
    "* [3d. Saving data](#saving)"
   ]
  },
  {
   "cell_type": "markdown",
   "metadata": {},
   "source": [
    "<span style=\"color:orange\">**Note: At the end of each section, please check with your group's TA and ask any questions that you might have about what you've just gone through. Take this opportunity to discuss the section with others in your group! Also, feel free to ask questions at any point in this tutorial. Make sure you have a good grasp on what it is you're doing in each section before moving on!**</span>"
   ]
  },
  {
   "cell_type": "markdown",
   "metadata": {},
   "source": [
    "# <span style=\"color:purple\"> 1. Introduction </span> <a name=\"intro\"/> "
   ]
  },
  {
   "cell_type": "markdown",
   "metadata": {},
   "source": [
    "In this notebook we will explore the basics of our EELS analysis python package. While programs like NION Swift are useful for quickly browsing through your data, modules like this are useful for creating quickly reproducable results and performing more in depth analysis.\n",
    "\n",
    "Let's start out by running the import cell below. This will give us all of the necessary functions for our EELS processing."
   ]
  },
  {
   "cell_type": "markdown",
   "metadata": {},
   "source": [
    "## <span style=\"color:purple\">1a. Importing data </span> <a name=\"import\"/> "
   ]
  },
  {
   "cell_type": "code",
   "execution_count": null,
   "metadata": {},
   "outputs": [],
   "source": [
    "## Imports\n",
    "%matplotlib notebook\n",
    "\n",
    "import numpy as np\n",
    "import matplotlib.pyplot as plt\n",
    "import hyperspy.api as hs\n",
    "\n",
    "import eels"
   ]
  },
  {
   "cell_type": "markdown",
   "metadata": {},
   "source": [
    "For this basic tutorial, we will work through the same data set used in the **Nion Swift** tutorial. This is an EELS data set of **SBMO (SmBaMn$_2$O$_6$)** grown on a **DSO (DyScO$_3$)** substrate. \n",
    "\n",
    "It is always important to start by defining file paths for importing and saving data processed in this notebook."
   ]
  },
  {
   "cell_type": "code",
   "execution_count": null,
   "metadata": {},
   "outputs": [],
   "source": [
    "# file path for directory with data files\n",
    "path = \"../Data/T4a/\" \n",
    "\n",
    "SIdm = \"SmBaMnO_onDSO_0p4step_5ms_750eV_0p5disp_5mmap_50pA_SI.dm4\""
   ]
  },
  {
   "cell_type": "markdown",
   "metadata": {},
   "source": [
    "Now let's import the EELS data. The **3D data cube** created from an EELS measurement is often denoted as a spectral image or **SI**."
   ]
  },
  {
   "cell_type": "code",
   "execution_count": null,
   "metadata": {},
   "outputs": [],
   "source": [
    "energy, SI, pxscale, disp, params = eels.specload(path+SIdm)"
   ]
  },
  {
   "cell_type": "markdown",
   "metadata": {},
   "source": [
    "As you can see above, ***`eels.specload`*** will output the following variables:\n",
    " - ***energy*** : energy loss values corresponding to third axis of SI data.\n",
    " - ***SI*** : SI data cube\n",
    " - ***pxscale*** : real space pixel size \n",
    " - ***disp*** : energy dispersion\n",
    " - ***params*** : list of parameters pulled from metadata of .dm3/.dm4 data file"
   ]
  },
  {
   "cell_type": "markdown",
   "metadata": {},
   "source": [
    "## <span style=\"color:purple\">1b. Understanding the dimensions of eels data in python </span>  <a name=\"dim\"/> "
   ]
  },
  {
   "cell_type": "markdown",
   "metadata": {},
   "source": [
    "As mentioned earlier, the **SI has three dimensions**, the first two axes represent where the scan probe was in real space, while the third axis will represent the energy loss of an electron at a given scan position **(X,Y,dE)**.\n",
    "\n",
    "Let's start by plotting the **sum spectrum** across the entire SI. This is nice for quickly seeing what elements you have in your SI. To do this, we want to sum along all of the real space scan positions, meaning we will **sum the first two axes together**.\n",
    "\n",
    "We can also create a **2D inelastically scattered image** of our SI data set by summing all of the inelastically scattered electrons collected at each pixel. This is done by **summing along the third axis**. This image is more or less a map of the scattering density across the SI, where thicker regions or regions with stronger scatterers will contain more multiple inelastic scattering events, meaning we will collect more electrons in the spectrometer."
   ]
  },
  {
   "cell_type": "code",
   "execution_count": null,
   "metadata": {
    "scrolled": false
   },
   "outputs": [],
   "source": [
    "## Let's start this cell by finding the dimensions of the SI data cube\n",
    "\n",
    "xdim,ydim,edim = np.shape(SI)\n",
    "\n",
    "print(\"The SI is a data cube of the electron counts of a given energy loss on the EELS detector for each (x,y) scan position, with size (\"+str(xdim)+\",\"+str(ydim)+\",\"+str(edim)+\")\")\n",
    "print(\"The rawE array is a one dimensional array of energy values corresponding to the 3rd axis in the SI data cube with length \"+str(len(energy)))\n",
    "\n",
    "## If we sum this data cube over the first two dimensions (the scan dimension), we end up with sum energy spectrum of \n",
    "## the electron energy loss across the entire scan area\n",
    "\n",
    "sumspec = np.sum(SI,axis=(0,1))\n",
    "\n",
    "eels.easyplot(\"Sum Spectrum\")\n",
    "plt.plot(energy,sumspec)\n",
    "\n",
    "## If we would like to see an image of the scan area using all of the inelastically scattered electrons detected for each pixel,\n",
    "## we would sum along the 3rd dimension\n",
    "## discusion on the contrast inversion from HAADF, brighter pixels where we have lower energy scattering.\n",
    "\n",
    "SIim = np.sum(SI,axis=2)\n",
    "\n",
    "plt.matshow(SIim,cmap='gray')\n",
    "plt.title('Full energy SI')"
   ]
  },
  {
   "cell_type": "markdown",
   "metadata": {},
   "source": [
    "If you would like to see an individual spectrum at a given scan position, we can plot this by inputting the pixel coordinates in the first two axes of the SI data cube. Remember that in python, the first dimension is the row and the second dimension is the column. In this notebook I will refer to the **row as the x coordinate and the column as the y coordinate**.\n",
    "\n",
    "We can also obtain a crude image of the scattering at a certain energy loss value by plotting a 2D image of the SI data cube with a single value in the third axis.\n",
    "\n",
    "You will see exactly how this works in python in the cell below. Feel free to try different scan positions and energy values.\n",
    "\n",
    "<span style=\"color:orange\">**Note: Maximum allowed (x,y) values are (1025,56). Inputting a larger value will give errors because these values are outside the (x,y) dimensions of the SI. Maximum allowed energy value is 1257.25 eV for the same reason.**</span>"
   ]
  },
  {
   "cell_type": "code",
   "execution_count": null,
   "metadata": {
    "scrolled": false
   },
   "outputs": [],
   "source": [
    "## If we would like to see the spectrum at a given scan position (here at the x=50,y=50 scan position)\n",
    "## Check the dimensions of your SI and pick position within the x-y axis.\n",
    "\n",
    "xpos,ypos = ?,?\n",
    "\n",
    "eels.easyplot(\"Energy spectrum at x=\"+str(xpos)+\", y=\"+str(ypos))\n",
    "plt.plot(energy,SI[xpos,ypos,:])\n",
    "\n",
    "## If we would like to see an image of our scan area at a given electron energy loss try:\n",
    "\n",
    "eloss = ? # this is in eV\n",
    "\n",
    "chloss = eels.eVtoCh(eloss,energy)\n",
    "plt.matshow(SI[:,:,chloss],cmap='gray')\n",
    "plt.title(\"Scan area with energy loss \"+str(eloss)+\" eV\")"
   ]
  },
  {
   "cell_type": "markdown",
   "metadata": {},
   "source": [
    "## <span style=\"color:purple\">1c. Dark correction </span> <a name=\"dark\"/> "
   ]
  },
  {
   "cell_type": "markdown",
   "metadata": {},
   "source": [
    "Normally we collect a dark reference for the EELS detector as a part of every experiment or acquisition. This is useful for reducing readout noise in the detector. Often, the dark correction is applied before the data is saved, but sometimes it is neccessary to apply the dark correction yourself.\n",
    "\n",
    "In this case, the data set has already undergone a dark correction, but we will see what the raw data set looks like without this dark correction applied. This data was taken on a direct electron detector, so the dark noise is actaully quite low."
   ]
  },
  {
   "cell_type": "code",
   "execution_count": null,
   "metadata": {},
   "outputs": [],
   "source": [
    "dark = np.array(hs.load(path+SIdm).original_metadata.ImageList.TagGroup0.ImageTags.EELS.Acquisition.HQ_Dark_Correction.HQ_dark_correction)\n",
    "\n",
    "rawspec = sumspec + dark*xdim*ydim\n",
    "\n",
    "eels.easyplot(\"Dark subtraction\")\n",
    "plt.plot(energy, rawspec/(xdim*ydim), color ='r', label ='Raw data')\n",
    "plt.plot(energy, dark, color = 'k', label ='Dark spectrum')\n",
    "plt.plot(energy, sumspec/(xdim*ydim), color = 'b', label ='Corrected data')\n",
    "plt.legend()"
   ]
  },
  {
   "cell_type": "markdown",
   "metadata": {},
   "source": [
    "[Return to TOC](#toc)"
   ]
  },
  {
   "cell_type": "markdown",
   "metadata": {},
   "source": [
    "# <span style=\"color:purple\">2. Basic Fitting </span> <a name=\"basic\"/> "
   ]
  },
  {
   "cell_type": "markdown",
   "metadata": {},
   "source": [
    "## <span style=\"color:purple\">2a. Edge mapping </span>  <a name=\"edge\"/> "
   ]
  },
  {
   "cell_type": "markdown",
   "metadata": {},
   "source": [
    "We will start by **binning the data set** to shorten our computation time and increase single to noise. This also allows us to perform our most basic fitting routine with high accuracy. We will show some of the more advanced methods of background fitting later in this notebook as well as in part two of this EELS analysis tutorial.\n",
    "\n",
    "To **bin the SI** we need to define our binning factors in each dimension of the data cube by the convention **`(x factor, y factor, E factor)`** and use **`eels.bin_ndarray(array, bin factors)`**"
   ]
  },
  {
   "cell_type": "code",
   "execution_count": null,
   "metadata": {},
   "outputs": [],
   "source": [
    "bin_factors = (2,2,1)\n",
    "\n",
    "bin_SI = eels.bin_ndarray(SI[:-1,:,:],bin_factors)"
   ]
  },
  {
   "cell_type": "markdown",
   "metadata": {},
   "source": [
    "We've already indentified the elements in this data in the Nion Swift portion of this tutorial. Let's use the same background fitting and integration windows you've already found in Swift and check that we can reproduce the maps from earlier.\n",
    "\n",
    "In python, we need to define an edge parameter variable that contains all of this information. The format of this edge parameter variable will be **`[fit start (eV), fit end (eV), int start (eV), int end (eV), 'Label']`**. Note that the \"Label\" is just a string used for your own record-keeping. "
   ]
  },
  {
   "cell_type": "markdown",
   "metadata": {},
   "source": [
    "In the cell below, enter your edge parameters from Nion Swift for the following elements: Sa, Mn, Ba, & Sm. "
   ]
  },
  {
   "cell_type": "code",
   "execution_count": null,
   "metadata": {},
   "outputs": [],
   "source": [
    "## Assign params to a variable by edge\n",
    "## Return to this cell to perform a background subtraction for each edge.\n",
    "\n",
    "Sc = [??, ??, ??, ??,'Sc-L2,3']\n",
    "Mn = [??, ??, ??, ??,'Mn-L3,2']\n",
    "Ba = [??, ??, ??, ??,'Ba-M4,5']\n",
    "Sm = [??, ??, ??, ??,'Sm-M4,5']\n",
    "\n",
    "## Define titles used for saving convenience later on\n",
    "Sc_title = Sc[4]+'_fit'+str(int(Sc[0]))+'-'+str(int(Sc[1]))+'_int'+str(int(Sc[2]))+'-'+str(int(Sc[3]))\n",
    "Mn_title = Mn[4]+'_fit'+str(int(Mn[0]))+'-'+str(int(Mn[1]))+'_int'+str(int(Mn[2]))+'-'+str(int(Mn[3]))\n",
    "Ba_title = Ba[4]+'_fit'+str(int(Ba[0]))+'-'+str(int(Ba[1]))+'_int'+str(int(Ba[2]))+'-'+str(int(Ba[3]))\n",
    "Sm_title = Sm[4]+'_fit'+str(int(Sm[0]))+'-'+str(int(Sm[1]))+'_int'+str(int(Sm[2]))+'-'+str(int(Sm[3]))"
   ]
  },
  {
   "cell_type": "markdown",
   "metadata": {},
   "source": [
    "Now we will preform a background subtraction on each of these edges. This is done using ***`eels.bgsub_SI`***. The standard way to fit and subtract a power law function to the background is use a log transform followed by a linear least squares fit. This method is very fast and reliable, however, in certain situations it can have drawbacks that we will address later in the tutorial.\n",
    "\n",
    "For more information on ***`eels.bgsub_SI`***, you can type ***`eels.bgsub_SI?`***"
   ]
  },
  {
   "cell_type": "code",
   "execution_count": null,
   "metadata": {},
   "outputs": [],
   "source": [
    "Sc_bsub = eels.bgsub_SI(bin_SI, energy, Sc,log=True)\n",
    "Mn_bsub = eels.bgsub_SI(bin_SI, energy, Mn,log=True)\n",
    "Ba_bsub = eels.bgsub_SI(bin_SI, energy, Ba,log=True)\n",
    "Sm_bsub = eels.bgsub_SI(bin_SI, energy, Sm,log=True)"
   ]
  },
  {
   "cell_type": "markdown",
   "metadata": {},
   "source": [
    "Let's look at the edge maps from each of these elements. We can produce these using the function ***`eels.edgemap`***. ***How do these edge maps compare to the edge maps produced in Nion Swift?***"
   ]
  },
  {
   "cell_type": "code",
   "execution_count": null,
   "metadata": {},
   "outputs": [],
   "source": [
    "## Producing edge maps\n",
    "\n",
    "Sc_edgemap = eels.edgemap(Sc_bsub, energy, Sc)\n",
    "Mn_edgemap = eels.edgemap(Mn_bsub, energy, Mn)\n",
    "Ba_edgemap = eels.edgemap(Ba_bsub, energy, Ba)\n",
    "Sm_edgemap = eels.edgemap(Sm_bsub, energy, Sm)\n",
    "\n",
    "fig,ax = plt.subplots(1,4,figsize=(6,12))\n",
    "ax[0].set_title(Sc[4])\n",
    "ax[0].imshow(Sc_edgemap, cmap='gray')\n",
    "ax[1].set_title(Mn[4])\n",
    "ax[1].imshow(Mn_edgemap, cmap='gray')\n",
    "ax[2].set_title(Ba[4])\n",
    "ax[2].imshow(Ba_edgemap, cmap='gray')\n",
    "ax[3].set_title(Sm[4])\n",
    "ax[3].imshow(Sm_edgemap, cmap='gray')"
   ]
  },
  {
   "cell_type": "markdown",
   "metadata": {},
   "source": [
    "These maps should look very similar to the maps you've already created in Nion Swift, but now let's see if we can improve upon these maps by implementing some of the additional tools available to us in this EELS package."
   ]
  },
  {
   "cell_type": "markdown",
   "metadata": {},
   "source": [
    "## <span style=\"color:purple\">2b. LBA fitting </span> <a name=\"lba\"/> "
   ]
  },
  {
   "cell_type": "markdown",
   "metadata": {},
   "source": [
    "We can improve the quality of this background subtraction if we implement **LBA (Local Background Averaging)**. This method applies a gaussian filter to the energy channels in our fit window before applying a fit. You can find more information in ***Data Processing for Atomic Resolution Electron Energy Loss Spectroscopy***, Cueva et al. 2012. [DOI: 10.1017/S1431927612000244](https://www.cambridge.org/core/journals/microscopy-and-microanalysis/article/abs/data-processing-for-atomic-resolution-electron-energy-loss-spectroscopy/B890497A2E7BF967521355C225C23E81)\n",
    "\n",
    "This is a tool available to us in the ***`eels.bgsub_SI`*** function. \n",
    "\n",
    "First we will define a parameter that will set the gaussian FWHM of the filter applied to the fit window energy channels. The size of this window is proportional to the signal to noise ratio improvement in the background window, but it should be noted that too large of a gaussian FWHM will cause artifacts in your edge maps. To see more on this, again you can reference the paper cited above."
   ]
  },
  {
   "cell_type": "code",
   "execution_count": null,
   "metadata": {},
   "outputs": [],
   "source": [
    "## Now gfwhm is approximately the number of pixels we average the background fit window over to improve fitting.\n",
    "\n",
    "gfwhm = 15\n",
    "\n",
    "Sc_bsub_lba = eels.bgsub_SI(bin_SI, energy, Sc,log=True,gfwhm=gfwhm)\n",
    "Mn_bsub_lba = eels.bgsub_SI(bin_SI, energy, Mn,log=True,gfwhm=gfwhm)\n",
    "Ba_bsub_lba = eels.bgsub_SI(bin_SI, energy, Ba,log=True,gfwhm=gfwhm)\n",
    "Sm_bsub_lba = eels.bgsub_SI(bin_SI, energy, Sm,log=True,gfwhm=gfwhm)"
   ]
  },
  {
   "cell_type": "markdown",
   "metadata": {},
   "source": [
    "Now lets compare the background subtracted edge maps we made earlier to the LBA background data we just produced."
   ]
  },
  {
   "cell_type": "code",
   "execution_count": null,
   "metadata": {
    "scrolled": false
   },
   "outputs": [],
   "source": [
    "## Producing edge maps\n",
    "\n",
    "Sc_edgemap_lba = eels.edgemap(Sc_bsub_lba, energy, Sc)\n",
    "Mn_edgemap_lba = eels.edgemap(Mn_bsub_lba, energy, Mn)\n",
    "Ba_edgemap_lba = eels.edgemap(Ba_bsub_lba, energy, Ba)\n",
    "Sm_edgemap_lba = eels.edgemap(Sm_bsub_lba, energy, Sm)\n",
    "\n",
    "fig,ax = plt.subplots(1,4,figsize=(6,12))\n",
    "ax[0].set_title(Mn[4])\n",
    "ax[0].imshow(Mn_edgemap, cmap='gray')\n",
    "ax[1].set_title(Mn[4]+ ', LBA ' + str(gfwhm))\n",
    "ax[1].imshow(Mn_edgemap_lba, cmap='gray')\n",
    "ax[2].set_title(Ba[4])\n",
    "ax[2].imshow(Ba_edgemap, cmap='gray')\n",
    "ax[3].set_title(Ba[4]+ ', LBA ' + str(gfwhm))\n",
    "ax[3].imshow(Ba_edgemap_lba, cmap='gray')"
   ]
  },
  {
   "cell_type": "markdown",
   "metadata": {},
   "source": [
    "***Go back and try changing the gfwhm value. How do these edge maps change with various gfwhm values?*** "
   ]
  },
  {
   "cell_type": "markdown",
   "metadata": {},
   "source": [
    "## <span style=\"color:purple\">2c. Checking the quality of the background fit </span> <a name=\"qual\"/> "
   ]
  },
  {
   "cell_type": "markdown",
   "metadata": {},
   "source": [
    "The quality of these edge maps should have increased after implementing LBA, but how did this happen? To get a clearer picture of why our edge maps improved, we need to be able to check the background subtracted data. In the cells below we will go over basic checks you should do before continuing with quantitative analysis."
   ]
  },
  {
   "cell_type": "markdown",
   "metadata": {},
   "source": [
    "**Checking the pre-edge and post-edge of the background subtracted data:**\n",
    "\n",
    "After performing a background subtraction, the quickest way to check the quality is to plot the summed background subtracted data and checking <span style=\"color:orange\">*two key indicators of a good background subtraction*<span style=\"color:orange\"></span>. \n",
    "\n",
    "The <span style=\"color:orange\">*first*</span> is to look at the <span style=\"color:orange\">*\"pre-edge\"*</span>. This is the region in the spectrum just before the onset of the energy peak that was used to fit the background. If the background was properly fitted, the pre-edge should be flat and centered at zero counts. This would indicate that the power law fit properly matched the background at each pixel. Any deviation from zero would indicate a mismatch between the fitting and the background.\n",
    "\n",
    "The <span style=\"color:orange\">*second*</span> thing to look at is the <span style=\"color:orange\">*\"post-edge\"*</span>, or the region just after the peaks of interest. This post-edge region should generally follow some power law decay to zero, indicating that the only remaining background signal data is from the edge of interest. If the post-edge region appears to continually increase above the edge of interest or decrease past zero counts, this would indicate a bad fit."
   ]
  },
  {
   "cell_type": "markdown",
   "metadata": {},
   "source": [
    "Let's start by comparing the first attempt at a background subtraction to the second attempt using LBA. This cell is written to study the Mn edge, but ***try rewritting this cell to check all four egdes we studied in this data set.***"
   ]
  },
  {
   "cell_type": "code",
   "execution_count": null,
   "metadata": {},
   "outputs": [],
   "source": [
    "## To assess whole SI background\n",
    "eels.easyplot(\"Compare Background subtraction\")\n",
    "plt.plot(energy, sum(sum(Mn_bsub)),label='non-LBA')\n",
    "plt.plot(energy, sum(sum(Mn_bsub_lba)),label='LBA')\n",
    "plt.xlim(Mn[0], Mn[3]+250)\n",
    "plt.axhline(0, color='k', linestyle='--')\n",
    "plt.legend()"
   ]
  },
  {
   "cell_type": "markdown",
   "metadata": {},
   "source": [
    "***Can you tell why the LBA edge maps consitently outperformed the non-LBA edge maps?***"
   ]
  },
  {
   "cell_type": "markdown",
   "metadata": {},
   "source": [
    "**Checking discrete regions of the background subtracted data:**\n",
    "\n",
    "A more robust way of checking the quality of our background subtraction is to check background subtracted spectrum in various discrete regions of the SI for consitency. The first check is only showing us on average how the background subtraction performed across the entire SI. To get a clearer picture of how this background subtraction is doing across the SI, we can use ***`eels.edge_check(background subtracted data, energy axis, edge)`*** GUI to scan the spectrum across the SI.\n",
    "\n",
    "Below we show how to perform this check on one of the four edge maps. The SI is also cropped along the 'x axis' for ease of viewing the SI, but this can easily be performed on the entire SI by removing the cropping. ***Try reproducing this check on all four edges. How do the LBA data sets compare to the non-LBA data sets?***\n",
    "\n",
    "You can sum over discrete regions by toggling either of the two check boxes labled ***`Region 1`*** and ***`Region 2`***. Change the size and shapes of the regions with the sliders on the right of these check boxes. You can adjust the shape moving the sliders or directly typing the parameters in the boxes to the right of the sliders.\n",
    "\n",
    "**<span style=\"color:red\"> If the notebook is slow, you can shutdown earlier figures by clicking on the power button on the top right of the figure. These GUI figures should be more responsive if the figures not currently being used are made inactive.</span>**"
   ]
  },
  {
   "cell_type": "code",
   "execution_count": null,
   "metadata": {},
   "outputs": [],
   "source": [
    "## This function will show the spectrum summed over discrete regions.\n",
    "\n",
    "eels.edge_check(Ba_bsub_lba[150:350,:,:],energy,Ba) # Notice how the SI is being cropped here."
   ]
  },
  {
   "cell_type": "markdown",
   "metadata": {},
   "source": [
    "**Checking quality of the fit window:**\n",
    "\n",
    "The checks above are very useful for verifying the quality of a background subtraction after it has already been done. It is a good idea to before running a background subtraction to check the fit window that you will use in the background subtraction. The region chosen for the fit window should be over a continous area of the background, with no obvious changes abrupt changes in the power law like decay. It should also end just prior to the onset of the EELS edge of interest.\n",
    "\n",
    "To check the fit window, we can use the ***`eels.fit_check(SI,energy axis)`*** GUI. This GUI is similar to the tab used in Nion Swift used to define your fit window. This function can also be used to check individual pixel to see how the background changes across the SI and ensure your fit is consistently matching the background. \n",
    "\n",
    "Up until now, we have only used a power law curve to fit the background, but in some select cases, this may not be the optimal function to describe the background. You can check that the type of fit you have decided to use is optimal for your background in this GUI as well. In this eels package, we can use power law as well as linear and exponential fittings, and you can check these fits against the power law fit in this GUI. For this tutorial, the power law is sufficient at fitting our background. \n",
    "\n",
    "**You should have already optimized your fit window parameters in Nion Swift, but take some time to double check these fit parameters using the GUI below.**"
   ]
  },
  {
   "cell_type": "code",
   "execution_count": null,
   "metadata": {},
   "outputs": [],
   "source": [
    "eels.fit_check(bin_SI,energy)"
   ]
  },
  {
   "cell_type": "markdown",
   "metadata": {},
   "source": [
    "**Side Note:**\n",
    "\n",
    "We have already shown that the ***`eels.edge_check`*** GUI is useful for checking the quality of your background subtracted data, but this GUI can also be used to screen your SI for the elemental distribution in across the SI. Try using the function again, but now on the original SI. Check that the concenctrations we saw earlier in the edge maps follow with the rise and decay of certain edges on either side of the interface in this data set.\n",
    "\n",
    "Note: In the cell below, the SI has been cropped for convience of viewing the interface of SBMO and DSO."
   ]
  },
  {
   "cell_type": "code",
   "execution_count": null,
   "metadata": {},
   "outputs": [],
   "source": [
    "eels.edge_check(bin_SI[400:,:,:],energy)"
   ]
  },
  {
   "cell_type": "markdown",
   "metadata": {},
   "source": [
    "**<span style=\"color:red\"> Before moving onto the next section, ensure that your background subtracted data passes all of the checks we have described above. </span>**"
   ]
  },
  {
   "cell_type": "markdown",
   "metadata": {},
   "source": [
    "[Return to TOC](#toc)"
   ]
  },
  {
   "cell_type": "markdown",
   "metadata": {},
   "source": [
    "# <span style=\"color:purple\">3. Basic Quantitative Analysis </span>  <a name=\"quant\"/> "
   ]
  },
  {
   "cell_type": "markdown",
   "metadata": {},
   "source": [
    "## <span style=\"color:purple\">3a. Fine structure analysis </span> <a name=\"fine\"/> "
   ]
  },
  {
   "cell_type": "markdown",
   "metadata": {},
   "source": [
    "Now that we are confident in the quality of our background subtraction, we can also perform additional quantitative analysis on data set. Let's start by plotting an image of the change in the eels spectrum across the interface.\n",
    "\n",
    "***Try running this cell on all four of the background subtracted data sets.***"
   ]
  },
  {
   "cell_type": "code",
   "execution_count": null,
   "metadata": {},
   "outputs": [],
   "source": [
    "## We can visualize the change in the eels spectrum across an interface by summing along the axis normal to the interface\n",
    "\n",
    "# Change these variables to modify the edge we are studying!\n",
    "edge = Mn\n",
    "data = Mn_bsub_lba\n",
    "\n",
    "## integrated profile from left to right\n",
    "# profile = np.sum(data, axis = 0)\n",
    "\n",
    "## integrated profile from top to bottom\n",
    "profile = np.sum(data, axis = 1)\n",
    "\n",
    "emin = edge[2] - 20.\n",
    "emax = edge[3] + 10.\n",
    "chmin = eels.eVtoCh(emin, energy)\n",
    "chmax = eels.eVtoCh(emax, energy)\n",
    "\n",
    "fig, ax = plt.subplots(figsize = (5,5))\n",
    "extent=[emin,emax,np.shape(data)[0],0]\n",
    "ax.imshow(profile[:,chmin:chmax], extent = extent,cmap = 'gray')\n",
    "plt.xlabel('Energy loss (eV)')\n",
    "plt.ylabel('X pixel')\n",
    "ax.set_aspect(.5)\n",
    "plt.show()"
   ]
  },
  {
   "cell_type": "markdown",
   "metadata": {},
   "source": [
    "##  <span style=\"color:purple\">3b. Line Profiles </span> <a name=\"line\"/> "
   ]
  },
  {
   "cell_type": "markdown",
   "metadata": {},
   "source": [
    "Additionally, we can plot a line profile of the concentration across the interface by summing the edge map along the axis normal to the interface."
   ]
  },
  {
   "cell_type": "code",
   "execution_count": null,
   "metadata": {},
   "outputs": [],
   "source": [
    "edgemap = Mn_edgemap_lba\n",
    "\n",
    "\n",
    "## integrated line profile from left to right\n",
    "# lineprofile = np.sum(edgemap, axis = 0)\n",
    "\n",
    "## integrated profile from top to bottom\n",
    "lineprofile = np.sum(edgemap, axis = 1)\n",
    "\n",
    "\n",
    "eels.easyplot(\"line profile of concentration\")\n",
    "plt.plot(np.arange(len(lineprofile))*pxscale,lineprofile)\n",
    "plt.xlabel('Distance (nm)')\n",
    "plt.ylabel(\"Intensity (a.u.)\")\n",
    "plt.show()"
   ]
  },
  {
   "cell_type": "markdown",
   "metadata": {},
   "source": [
    "***How are the elements distributed through the thickness of the film? Try plotting the concentrations of Sm, Ba, and Mn on the same plot to see if you can reveal any interesting order or disorder.***"
   ]
  },
  {
   "cell_type": "markdown",
   "metadata": {},
   "source": [
    "##  <span style=\"color:purple\">3c. RGB mapping </span> <a name=\"rgb\"/> "
   ]
  },
  {
   "cell_type": "markdown",
   "metadata": {},
   "source": [
    "Now that you have multiple background subtracted data sets, we can also create **compositional maps** of the different elements in the data set.\n",
    "\n",
    "Let's start by picking three elements of interest. For this data set, we can pick the three elements we have mapped in the SBMO crystal."
   ]
  },
  {
   "cell_type": "code",
   "execution_count": null,
   "metadata": {},
   "outputs": [],
   "source": [
    "fig,ax = plt.subplots(1,3,figsize=(4,12))\n",
    "ax[0].set_title(Sm[4])\n",
    "ax[0].imshow(Sm_edgemap, cmap='gray')\n",
    "ax[1].set_title(Mn[4])\n",
    "ax[1].imshow(Mn_edgemap, cmap='gray')\n",
    "ax[2].set_title(Ba[4])\n",
    "ax[2].imshow(Ba_edgemap, cmap='gray')"
   ]
  },
  {
   "cell_type": "markdown",
   "metadata": {},
   "source": [
    "Using ***`eels.easyrgb`*** we can create compostional maps using any of the primary colors: Red, Green, Blue, Cyan, Magenta, and Yellow."
   ]
  },
  {
   "cell_type": "code",
   "execution_count": null,
   "metadata": {
    "scrolled": false
   },
   "outputs": [],
   "source": [
    "## Now lets make a composite image of these edge maps.\n",
    "## Pick the colors red, green, blue, cyan, magenta, and yellow using 'r','g','b','c','m','y' \n",
    "\n",
    "rgbmap = eels.easyrgb([Sm_edgemap,Mn_edgemap,Ba_edgemap],['r','g','b'])    \n",
    "cmymap = eels.easyrgb([Sm_edgemap,Mn_edgemap,Ba_edgemap],['c','m','y'])    \n",
    "\n",
    "fig,(ax1,ax2)=plt.subplots(1,2,figsize=(8,20))\n",
    "ax1.set_title('Sm: Red , Mn : Green , Ba : Blue') # change this based on the colors you choose above\n",
    "ax1.imshow(rgbmap)\n",
    "ax2.set_title('Sm: Cyan , Mn : Magenta , Ba : Yellow') # change this based on the colors you choose above\n",
    "ax2.imshow(cmymap)"
   ]
  },
  {
   "cell_type": "markdown",
   "metadata": {},
   "source": [
    "***Do you see anything unique happening in this SI now that we've created these compositional maps? Is the BMSO completely uniform or can you identify some regions where the crystal seems to become less ordered?***"
   ]
  },
  {
   "cell_type": "markdown",
   "metadata": {},
   "source": [
    "##  <span style=\"color:purple\">3d. Saving data </span> <a name=\"saving\"/> "
   ]
  },
  {
   "cell_type": "markdown",
   "metadata": {},
   "source": [
    "Now that we have gone through the basics of the EELS python package, let's learn how to properly save all of our data! There are three common forms of data that we save.\n",
    "\n",
    "The first is an **npz** file. This is useful for saving background subtracted data that we have made in this notebook. We can save the data along with the energy axis and edge parameters used. This is great for quickly loading in data that you've previously made in this notebook as well as performing more involved quantitative analysis that we will go over in the next notebook.\n",
    "\n",
    "The second is a **tiff**. This is great for saving the lovely edge maps you've now made in python as well as the RGB compositional maps.\n",
    "\n",
    "Lastly, if you'd like to save any of the figures you've made, we typically save those as **png** files.\n",
    "\n",
    "In the cell below, there is a guide for saving each of these types of files. "
   ]
  },
  {
   "cell_type": "code",
   "execution_count": null,
   "metadata": {},
   "outputs": [],
   "source": [
    "## NPZ file saving:\n",
    "\n",
    "## Make sure to include all edge parameters in the title along with any additional fitting tools used such as LBA.\n",
    "np.savez(path + Sm_title + '_lba_'+str(gfwhm), \n",
    "        bsub = Sm_bsub_lba,\n",
    "        energy = energy, \n",
    "        edge = Sm)\n",
    "\n",
    "## Tiff file saving:\n",
    "\n",
    "## Saving a 2D edge map:\n",
    "eels.saveTiff(Sm_edgemap_lba,path+Sc_title + '_lba_'+str(gfwhm)+'_edgemap')\n",
    "\n",
    "## Saving a RGB compositional map:\n",
    "eels.saveTiff(np.swapaxes(rgbmap,0,1),path+'RGBmap_'+'Sm_Red__Mn_Green__Ba_Blue')\n",
    "\n",
    "\n",
    "## PNG file saving:\n",
    "\n",
    "edgemap = Sm_edgemap_lba\n",
    "lineprofile = np.sum(edgemap, axis = 1)\n",
    "\n",
    "eels.easyplot(\"line profile of concentration\")\n",
    "plt.plot(np.arange(len(lineprofile))*pxscale,lineprofile)\n",
    "plt.xlabel('Distance (nm)')\n",
    "plt.ylabel(\"Intensity (a.u.)\")\n",
    "## This is the important line for saving\n",
    "plt.savefig(path+Sm_title+'_LBA'+'_conc_h',transparent = 'true', bbox_inches = 'tight', dpi = 300)"
   ]
  },
  {
   "cell_type": "markdown",
   "metadata": {},
   "source": [
    "# <span style=\"color:red\">End of notebook </span>\n",
    "[Return to TOC](#toc)"
   ]
  }
 ],
 "metadata": {
  "kernelspec": {
   "display_name": "Python 3",
   "language": "python",
   "name": "python3"
  },
  "language_info": {
   "codemirror_mode": {
    "name": "ipython",
    "version": 3
   },
   "file_extension": ".py",
   "mimetype": "text/x-python",
   "name": "python",
   "nbconvert_exporter": "python",
   "pygments_lexer": "ipython3",
   "version": "3.8.8"
  }
 },
 "nbformat": 4,
 "nbformat_minor": 4
}
